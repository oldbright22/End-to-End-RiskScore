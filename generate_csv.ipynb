{
 "cells": [
  {
   "cell_type": "code",
   "execution_count": 3,
   "metadata": {},
   "outputs": [],
   "source": [
    "import pandas as pd\n",
    "import random\n",
    "\n",
    "# Random seed for reproducibility\n",
    "random.seed(42)\n",
    "\n",
    "# Generated sample data\n",
    "data = {\n",
    "    'Patient_ID': range(1, 101),\n",
    "    'Age': [random.randint(18, 80) for _ in range(100)],\n",
    "    'Gender': [random.choice(['Male', 'Female']) for _ in range(100)],\n",
    "    'Medical_History': [random.choice(['None', 'Cardiovascular', 'Orthopedic', 'Diabetes', 'Chronic Pain']) for _ in range(100)],\n",
    "    'Current_Pain_Level': [random.randint(1, 10) for _ in range(100)],\n",
    "    'Exercise_Type': [random.choice(['Stretching', 'Strength', 'Cardio', 'Flexibility']) for _ in range(100)],\n",
    "    'Exercise_Intensity': [random.choice(['Low', 'Medium', 'High']) for _ in range(100)],\n",
    "    'Exercise_Duration': [random.randint(10, 60) for _ in range(100)]\n",
    "}\n",
    "\n",
    "df = pd.DataFrame(data)\n",
    "\n",
    "# Save to CSV\n",
    "csv_file_path = 'data/Physical_Therapy_Patient_Data.csv'\n",
    "df.to_csv(csv_file_path, index=False)\n",
    "\n",
    "## Command: 'conda install -p c:\\Users\\btina\\LLM\\AI-RiskScore ipykernel --update-deps --force-reinstall'"
   ]
  }
 ],
 "metadata": {
  "kernelspec": {
   "display_name": "Python 3",
   "language": "python",
   "name": "python3"
  },
  "language_info": {
   "codemirror_mode": {
    "name": "ipython",
    "version": 3
   },
   "file_extension": ".py",
   "mimetype": "text/x-python",
   "name": "python",
   "nbconvert_exporter": "python",
   "pygments_lexer": "ipython3",
   "version": "3.11.9"
  }
 },
 "nbformat": 4,
 "nbformat_minor": 2
}
